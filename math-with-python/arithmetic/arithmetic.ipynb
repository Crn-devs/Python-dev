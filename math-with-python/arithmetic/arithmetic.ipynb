{
 "cells": [
  {
   "cell_type": "markdown",
   "id": "dad01c9c",
   "metadata": {},
   "source": [
    "Addition in python"
   ]
  },
  {
   "cell_type": "code",
   "execution_count": 3,
   "id": "d39cf44c",
   "metadata": {},
   "outputs": [
    {
     "data": {
      "text/plain": [
       "15"
      ]
     },
     "execution_count": 3,
     "metadata": {},
     "output_type": "execute_result"
    }
   ],
   "source": [
    "1 + 1 + 5 + 8"
   ]
  },
  {
   "cell_type": "markdown",
   "id": "eb5ff7d4",
   "metadata": {},
   "source": [
    "Subtraction in python"
   ]
  },
  {
   "cell_type": "code",
   "execution_count": 4,
   "id": "4f04cb1f",
   "metadata": {},
   "outputs": [
    {
     "data": {
      "text/plain": [
       "0"
      ]
     },
     "execution_count": 4,
     "metadata": {},
     "output_type": "execute_result"
    }
   ],
   "source": [
    "100 - 50 - 40 - 10"
   ]
  },
  {
   "cell_type": "markdown",
   "id": "e38cc219",
   "metadata": {},
   "source": [
    "Multiplication in python \n",
    "\n",
    "Doesnt use the X uses * in programming"
   ]
  },
  {
   "cell_type": "code",
   "execution_count": 5,
   "id": "5c76e482",
   "metadata": {},
   "outputs": [
    {
     "data": {
      "text/plain": [
       "250"
      ]
     },
     "execution_count": 5,
     "metadata": {},
     "output_type": "execute_result"
    }
   ],
   "source": [
    "50 * 5"
   ]
  },
  {
   "cell_type": "markdown",
   "id": "fbaec4e9",
   "metadata": {},
   "source": [
    "Divide uses the / similar to fractions in math\n",
    "\n",
    "4 ÷ 4 = 1\n",
    "4/4=1"
   ]
  },
  {
   "cell_type": "code",
   "execution_count": 6,
   "id": "47d0014c",
   "metadata": {},
   "outputs": [
    {
     "data": {
      "text/plain": [
       "1.0"
      ]
     },
     "execution_count": 6,
     "metadata": {},
     "output_type": "execute_result"
    }
   ],
   "source": [
    "4/4\n"
   ]
  },
  {
   "cell_type": "markdown",
   "id": "ed9446a4",
   "metadata": {},
   "source": [
    "Parenthesis are used in programming to control the order of operations\n",
    "\n",
    "1 + 2 X 3 = 9 | 7 this will execute to be 7 as the order of python operations goes \n",
    "\n",
    "** is highest, then multiplication/division, then addition/subtraction\n",
    "\n",
    "so what really happens is 2 x 3 = 6 + 1 = 7"
   ]
  },
  {
   "cell_type": "code",
   "execution_count": 8,
   "id": "1721d0c3",
   "metadata": {},
   "outputs": [
    {
     "data": {
      "text/plain": [
       "7"
      ]
     },
     "execution_count": 8,
     "metadata": {},
     "output_type": "execute_result"
    }
   ],
   "source": [
    "1+2*3"
   ]
  },
  {
   "cell_type": "markdown",
   "id": "3f5f0a00",
   "metadata": {},
   "source": [
    "we can change the order by using parenthesis\n",
    "\n",
    "(1 + 2) x 3 = 9"
   ]
  },
  {
   "cell_type": "code",
   "execution_count": 9,
   "id": "da78598f",
   "metadata": {},
   "outputs": [
    {
     "data": {
      "text/plain": [
       "9"
      ]
     },
     "execution_count": 9,
     "metadata": {},
     "output_type": "execute_result"
    }
   ],
   "source": [
    "(1+2) * 3"
   ]
  },
  {
   "cell_type": "markdown",
   "id": "a09753af",
   "metadata": {},
   "source": [
    "Challanges: convert equasions to python\n",
    "\n",
    "1. 5 minus 2 over 4 multiplied by 3over5\n",
    "\n",
    "2. 4 minus 5 over 3 plus 5 multiplied by 6 "
   ]
  },
  {
   "cell_type": "code",
   "execution_count": 20,
   "id": "56a8982e",
   "metadata": {},
   "outputs": [
    {
     "data": {
      "text/plain": [
       "4.7"
      ]
     },
     "execution_count": 20,
     "metadata": {},
     "output_type": "execute_result"
    }
   ],
   "source": [
    "5 - 2/4 * 3/5"
   ]
  },
  {
   "cell_type": "code",
   "execution_count": 24,
   "id": "22233961",
   "metadata": {},
   "outputs": [
    {
     "data": {
      "text/plain": [
       "-0.030303030303030304"
      ]
     },
     "execution_count": 24,
     "metadata": {},
     "output_type": "execute_result"
    }
   ],
   "source": [
    "(4 - 5) / (3+5*6)"
   ]
  },
  {
   "cell_type": "markdown",
   "id": "c116c37d",
   "metadata": {},
   "source": [
    "Variables in place of numbers\n",
    "\n",
    "We can use variables in place of numbers for longer operations\n",
    "\n",
    "variables can be re-assigned and re-assgined to them selves or other equations"
   ]
  },
  {
   "cell_type": "code",
   "execution_count": 46,
   "id": "3557e5dc",
   "metadata": {},
   "outputs": [
    {
     "name": "stdout",
     "output_type": "stream",
     "text": [
      "7\n",
      "21\n"
     ]
    }
   ],
   "source": [
    "x = 7 \n",
    "y = 14\n",
    "print(x)\n",
    "\n",
    "x = x+y\n",
    "print(x)\n"
   ]
  },
  {
   "cell_type": "markdown",
   "id": "e67107b5",
   "metadata": {},
   "source": [
    "Exercise: Create 3 variables and complete the equations\n",
    "\n",
    "3x(4+y) = 42\n",
    "\n",
    "-y - x+3 over z = 0\n",
    "\n"
   ]
  },
  {
   "cell_type": "code",
   "execution_count": null,
   "id": "2d33fca4",
   "metadata": {},
   "outputs": [
    {
     "data": {
      "text/plain": [
       "82"
      ]
     },
     "execution_count": 56,
     "metadata": {},
     "output_type": "execute_result"
    }
   ],
   "source": [
    "x = 7\n",
    "y = -2\n",
    "z = 5\n",
    "\n",
    "(3*x)*(4+y)"
   ]
  }
 ],
 "metadata": {
  "kernelspec": {
   "display_name": ".venv",
   "language": "python",
   "name": "python3"
  },
  "language_info": {
   "codemirror_mode": {
    "name": "ipython",
    "version": 3
   },
   "file_extension": ".py",
   "mimetype": "text/x-python",
   "name": "python",
   "nbconvert_exporter": "python",
   "pygments_lexer": "ipython3",
   "version": "3.13.3"
  }
 },
 "nbformat": 4,
 "nbformat_minor": 5
}
