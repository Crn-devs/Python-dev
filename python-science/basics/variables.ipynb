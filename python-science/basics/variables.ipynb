{
 "cells": [
  {
   "cell_type": "markdown",
   "id": "996e08e2",
   "metadata": {},
   "source": [
    "Variables in python!\n",
    "\n",
    "variables are loosely types \n",
    "name = value\n",
    "\n",
    "cant contain spaces\n",
    "cant start with numbers\n",
    "cant contain non alpha numeric values unless '_'\n",
    "\n",
    "comments are started with #\n",
    "\n",
    "multi-declaration is allowed"
   ]
  },
  {
   "cell_type": "code",
   "execution_count": null,
   "id": "d3af8db9",
   "metadata": {},
   "outputs": [
    {
     "name": "stdout",
     "output_type": "stream",
     "text": [
      "a b c\n",
      "Variable   Type    Data/Info\n",
      "----------------------------\n",
      "a          str     a\n",
      "b          str     b\n",
      "c          str     c\n"
     ]
    }
   ],
   "source": [
    "a = 'a' # can be single quote for strings\n",
    "b,c = \"b\", \"c\" # or double\n",
    "\n",
    "print(a,b,c)\n",
    "\n",
    "# prints a list of variables declared and there types and values as a table\n",
    "%whos\n"
   ]
  },
  {
   "cell_type": "code",
   "execution_count": null,
   "id": "99b138b6",
   "metadata": {},
   "outputs": [
    {
     "name": "stdout",
     "output_type": "stream",
     "text": [
      "newFoo\n",
      "string\n"
     ]
    }
   ],
   "source": [
    "name = \"foo\"\n",
    "\n",
    "name = \"newFoo\" # re-assignment is allowed\n",
    "\n",
    "print(name)\n",
    "\n",
    "numberToString = 5 # re-assignment to different types is allowed\n",
    "numberToString = \"string\"\n",
    "\n",
    "print(numberToString)\n",
    "\n",
    "# print(numberToString + 1) # throws a type error as its now been assigned to string"
   ]
  }
 ],
 "metadata": {
  "kernelspec": {
   "display_name": ".venv",
   "language": "python",
   "name": "python3"
  },
  "language_info": {
   "codemirror_mode": {
    "name": "ipython",
    "version": 3
   },
   "file_extension": ".py",
   "mimetype": "text/x-python",
   "name": "python",
   "nbconvert_exporter": "python",
   "pygments_lexer": "ipython3",
   "version": "3.13.3"
  }
 },
 "nbformat": 4,
 "nbformat_minor": 5
}
